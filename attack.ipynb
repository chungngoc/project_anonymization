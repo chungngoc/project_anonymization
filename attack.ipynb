{
 "cells": [
  {
   "cell_type": "code",
   "execution_count": 2,
   "metadata": {},
   "outputs": [
    {
     "ename": "MemoryError",
     "evalue": "Unable to allocate 264. MiB for an array with shape (1, 34551849) and data type object",
     "output_type": "error",
     "traceback": [
      "\u001b[1;31m---------------------------------------------------------------------------\u001b[0m",
      "\u001b[1;31mMemoryError\u001b[0m                               Traceback (most recent call last)",
      "\u001b[1;32m<ipython-input-2-cf2787275064>\u001b[0m in \u001b[0;36m<module>\u001b[1;34m\u001b[0m\n\u001b[0;32m     11\u001b[0m \u001b[0mfile_name\u001b[0m \u001b[1;33m=\u001b[0m \u001b[1;34m'DAZC_481'\u001b[0m\u001b[1;33m\u001b[0m\u001b[1;33m\u001b[0m\u001b[0m\n\u001b[0;32m     12\u001b[0m \u001b[1;33m\u001b[0m\u001b[0m\n\u001b[1;32m---> 13\u001b[1;33m \u001b[0mdf\u001b[0m \u001b[1;33m=\u001b[0m \u001b[0mpd\u001b[0m\u001b[1;33m.\u001b[0m\u001b[0mread_csv\u001b[0m\u001b[1;33m(\u001b[0m\u001b[1;34m'database'\u001b[0m\u001b[1;33m,\u001b[0m \u001b[0mnames\u001b[0m \u001b[1;33m=\u001b[0m \u001b[0mcolumns_name\u001b[0m\u001b[1;33m,\u001b[0m \u001b[0msep\u001b[0m \u001b[1;33m=\u001b[0m \u001b[1;34m'\\t'\u001b[0m\u001b[1;33m)\u001b[0m\u001b[1;33m\u001b[0m\u001b[1;33m\u001b[0m\u001b[0m\n\u001b[0m\u001b[0;32m     14\u001b[0m \u001b[0mdf\u001b[0m\u001b[1;33m[\u001b[0m\u001b[1;34m'date'\u001b[0m\u001b[1;33m]\u001b[0m \u001b[1;33m=\u001b[0m \u001b[0mdf\u001b[0m\u001b[1;33m[\u001b[0m\u001b[1;34m'date'\u001b[0m\u001b[1;33m]\u001b[0m\u001b[1;33m.\u001b[0m\u001b[0mstr\u001b[0m\u001b[1;33m.\u001b[0m\u001b[0mslice\u001b[0m\u001b[1;33m(\u001b[0m\u001b[0mstop\u001b[0m \u001b[1;33m=\u001b[0m \u001b[1;36m16\u001b[0m\u001b[1;33m)\u001b[0m\u001b[1;33m\u001b[0m\u001b[1;33m\u001b[0m\u001b[0m\n\u001b[0;32m     15\u001b[0m \u001b[0mdf\u001b[0m\u001b[1;33m[\u001b[0m\u001b[1;34m'date'\u001b[0m\u001b[1;33m]\u001b[0m \u001b[1;33m=\u001b[0m \u001b[0mpd\u001b[0m\u001b[1;33m.\u001b[0m\u001b[0mto_datetime\u001b[0m\u001b[1;33m(\u001b[0m\u001b[0mdf\u001b[0m\u001b[1;33m[\u001b[0m\u001b[1;34m'date'\u001b[0m\u001b[1;33m]\u001b[0m\u001b[1;33m,\u001b[0m \u001b[0mformat\u001b[0m \u001b[1;33m=\u001b[0m \u001b[1;34m\"%Y-%m-%d %H:%M\"\u001b[0m\u001b[1;33m)\u001b[0m\u001b[1;33m\u001b[0m\u001b[1;33m\u001b[0m\u001b[0m\n",
      "\u001b[1;32m~\\anaconda3\\lib\\site-packages\\pandas\\util\\_decorators.py\u001b[0m in \u001b[0;36mwrapper\u001b[1;34m(*args, **kwargs)\u001b[0m\n\u001b[0;32m    309\u001b[0m                     \u001b[0mstacklevel\u001b[0m\u001b[1;33m=\u001b[0m\u001b[0mstacklevel\u001b[0m\u001b[1;33m,\u001b[0m\u001b[1;33m\u001b[0m\u001b[1;33m\u001b[0m\u001b[0m\n\u001b[0;32m    310\u001b[0m                 )\n\u001b[1;32m--> 311\u001b[1;33m             \u001b[1;32mreturn\u001b[0m \u001b[0mfunc\u001b[0m\u001b[1;33m(\u001b[0m\u001b[1;33m*\u001b[0m\u001b[0margs\u001b[0m\u001b[1;33m,\u001b[0m \u001b[1;33m**\u001b[0m\u001b[0mkwargs\u001b[0m\u001b[1;33m)\u001b[0m\u001b[1;33m\u001b[0m\u001b[1;33m\u001b[0m\u001b[0m\n\u001b[0m\u001b[0;32m    312\u001b[0m \u001b[1;33m\u001b[0m\u001b[0m\n\u001b[0;32m    313\u001b[0m         \u001b[1;32mreturn\u001b[0m \u001b[0mwrapper\u001b[0m\u001b[1;33m\u001b[0m\u001b[1;33m\u001b[0m\u001b[0m\n",
      "\u001b[1;32m~\\anaconda3\\lib\\site-packages\\pandas\\io\\parsers\\readers.py\u001b[0m in \u001b[0;36mread_csv\u001b[1;34m(filepath_or_buffer, sep, delimiter, header, names, index_col, usecols, squeeze, prefix, mangle_dupe_cols, dtype, engine, converters, true_values, false_values, skipinitialspace, skiprows, skipfooter, nrows, na_values, keep_default_na, na_filter, verbose, skip_blank_lines, parse_dates, infer_datetime_format, keep_date_col, date_parser, dayfirst, cache_dates, iterator, chunksize, compression, thousands, decimal, lineterminator, quotechar, quoting, doublequote, escapechar, comment, encoding, encoding_errors, dialect, error_bad_lines, warn_bad_lines, on_bad_lines, delim_whitespace, low_memory, memory_map, float_precision, storage_options)\u001b[0m\n\u001b[0;32m    584\u001b[0m     \u001b[0mkwds\u001b[0m\u001b[1;33m.\u001b[0m\u001b[0mupdate\u001b[0m\u001b[1;33m(\u001b[0m\u001b[0mkwds_defaults\u001b[0m\u001b[1;33m)\u001b[0m\u001b[1;33m\u001b[0m\u001b[1;33m\u001b[0m\u001b[0m\n\u001b[0;32m    585\u001b[0m \u001b[1;33m\u001b[0m\u001b[0m\n\u001b[1;32m--> 586\u001b[1;33m     \u001b[1;32mreturn\u001b[0m \u001b[0m_read\u001b[0m\u001b[1;33m(\u001b[0m\u001b[0mfilepath_or_buffer\u001b[0m\u001b[1;33m,\u001b[0m \u001b[0mkwds\u001b[0m\u001b[1;33m)\u001b[0m\u001b[1;33m\u001b[0m\u001b[1;33m\u001b[0m\u001b[0m\n\u001b[0m\u001b[0;32m    587\u001b[0m \u001b[1;33m\u001b[0m\u001b[0m\n\u001b[0;32m    588\u001b[0m \u001b[1;33m\u001b[0m\u001b[0m\n",
      "\u001b[1;32m~\\anaconda3\\lib\\site-packages\\pandas\\io\\parsers\\readers.py\u001b[0m in \u001b[0;36m_read\u001b[1;34m(filepath_or_buffer, kwds)\u001b[0m\n\u001b[0;32m    486\u001b[0m \u001b[1;33m\u001b[0m\u001b[0m\n\u001b[0;32m    487\u001b[0m     \u001b[1;32mwith\u001b[0m \u001b[0mparser\u001b[0m\u001b[1;33m:\u001b[0m\u001b[1;33m\u001b[0m\u001b[1;33m\u001b[0m\u001b[0m\n\u001b[1;32m--> 488\u001b[1;33m         \u001b[1;32mreturn\u001b[0m \u001b[0mparser\u001b[0m\u001b[1;33m.\u001b[0m\u001b[0mread\u001b[0m\u001b[1;33m(\u001b[0m\u001b[0mnrows\u001b[0m\u001b[1;33m)\u001b[0m\u001b[1;33m\u001b[0m\u001b[1;33m\u001b[0m\u001b[0m\n\u001b[0m\u001b[0;32m    489\u001b[0m \u001b[1;33m\u001b[0m\u001b[0m\n\u001b[0;32m    490\u001b[0m \u001b[1;33m\u001b[0m\u001b[0m\n",
      "\u001b[1;32m~\\anaconda3\\lib\\site-packages\\pandas\\io\\parsers\\readers.py\u001b[0m in \u001b[0;36mread\u001b[1;34m(self, nrows)\u001b[0m\n\u001b[0;32m   1057\u001b[0m             \u001b[0mnew_rows\u001b[0m \u001b[1;33m=\u001b[0m \u001b[0mlen\u001b[0m\u001b[1;33m(\u001b[0m\u001b[0mindex\u001b[0m\u001b[1;33m)\u001b[0m\u001b[1;33m\u001b[0m\u001b[1;33m\u001b[0m\u001b[0m\n\u001b[0;32m   1058\u001b[0m \u001b[1;33m\u001b[0m\u001b[0m\n\u001b[1;32m-> 1059\u001b[1;33m         \u001b[0mdf\u001b[0m \u001b[1;33m=\u001b[0m \u001b[0mDataFrame\u001b[0m\u001b[1;33m(\u001b[0m\u001b[0mcol_dict\u001b[0m\u001b[1;33m,\u001b[0m \u001b[0mcolumns\u001b[0m\u001b[1;33m=\u001b[0m\u001b[0mcolumns\u001b[0m\u001b[1;33m,\u001b[0m \u001b[0mindex\u001b[0m\u001b[1;33m=\u001b[0m\u001b[0mindex\u001b[0m\u001b[1;33m)\u001b[0m\u001b[1;33m\u001b[0m\u001b[1;33m\u001b[0m\u001b[0m\n\u001b[0m\u001b[0;32m   1060\u001b[0m \u001b[1;33m\u001b[0m\u001b[0m\n\u001b[0;32m   1061\u001b[0m         \u001b[0mself\u001b[0m\u001b[1;33m.\u001b[0m\u001b[0m_currow\u001b[0m \u001b[1;33m+=\u001b[0m \u001b[0mnew_rows\u001b[0m\u001b[1;33m\u001b[0m\u001b[1;33m\u001b[0m\u001b[0m\n",
      "\u001b[1;32m~\\anaconda3\\lib\\site-packages\\pandas\\core\\frame.py\u001b[0m in \u001b[0;36m__init__\u001b[1;34m(self, data, index, columns, dtype, copy)\u001b[0m\n\u001b[0;32m    612\u001b[0m         \u001b[1;32melif\u001b[0m \u001b[0misinstance\u001b[0m\u001b[1;33m(\u001b[0m\u001b[0mdata\u001b[0m\u001b[1;33m,\u001b[0m \u001b[0mdict\u001b[0m\u001b[1;33m)\u001b[0m\u001b[1;33m:\u001b[0m\u001b[1;33m\u001b[0m\u001b[1;33m\u001b[0m\u001b[0m\n\u001b[0;32m    613\u001b[0m             \u001b[1;31m# GH#38939 de facto copy defaults to False only in non-dict cases\u001b[0m\u001b[1;33m\u001b[0m\u001b[1;33m\u001b[0m\u001b[1;33m\u001b[0m\u001b[0m\n\u001b[1;32m--> 614\u001b[1;33m             \u001b[0mmgr\u001b[0m \u001b[1;33m=\u001b[0m \u001b[0mdict_to_mgr\u001b[0m\u001b[1;33m(\u001b[0m\u001b[0mdata\u001b[0m\u001b[1;33m,\u001b[0m \u001b[0mindex\u001b[0m\u001b[1;33m,\u001b[0m \u001b[0mcolumns\u001b[0m\u001b[1;33m,\u001b[0m \u001b[0mdtype\u001b[0m\u001b[1;33m=\u001b[0m\u001b[0mdtype\u001b[0m\u001b[1;33m,\u001b[0m \u001b[0mcopy\u001b[0m\u001b[1;33m=\u001b[0m\u001b[0mcopy\u001b[0m\u001b[1;33m,\u001b[0m \u001b[0mtyp\u001b[0m\u001b[1;33m=\u001b[0m\u001b[0mmanager\u001b[0m\u001b[1;33m)\u001b[0m\u001b[1;33m\u001b[0m\u001b[1;33m\u001b[0m\u001b[0m\n\u001b[0m\u001b[0;32m    615\u001b[0m         \u001b[1;32melif\u001b[0m \u001b[0misinstance\u001b[0m\u001b[1;33m(\u001b[0m\u001b[0mdata\u001b[0m\u001b[1;33m,\u001b[0m \u001b[0mma\u001b[0m\u001b[1;33m.\u001b[0m\u001b[0mMaskedArray\u001b[0m\u001b[1;33m)\u001b[0m\u001b[1;33m:\u001b[0m\u001b[1;33m\u001b[0m\u001b[1;33m\u001b[0m\u001b[0m\n\u001b[0;32m    616\u001b[0m             \u001b[1;32mimport\u001b[0m \u001b[0mnumpy\u001b[0m\u001b[1;33m.\u001b[0m\u001b[0mma\u001b[0m\u001b[1;33m.\u001b[0m\u001b[0mmrecords\u001b[0m \u001b[1;32mas\u001b[0m \u001b[0mmrecords\u001b[0m\u001b[1;33m\u001b[0m\u001b[1;33m\u001b[0m\u001b[0m\n",
      "\u001b[1;32m~\\anaconda3\\lib\\site-packages\\pandas\\core\\internals\\construction.py\u001b[0m in \u001b[0;36mdict_to_mgr\u001b[1;34m(data, index, columns, dtype, typ, copy)\u001b[0m\n\u001b[0;32m    462\u001b[0m         \u001b[1;31m# TODO: can we get rid of the dt64tz special case above?\u001b[0m\u001b[1;33m\u001b[0m\u001b[1;33m\u001b[0m\u001b[1;33m\u001b[0m\u001b[0m\n\u001b[0;32m    463\u001b[0m \u001b[1;33m\u001b[0m\u001b[0m\n\u001b[1;32m--> 464\u001b[1;33m     return arrays_to_mgr(\n\u001b[0m\u001b[0;32m    465\u001b[0m         \u001b[0marrays\u001b[0m\u001b[1;33m,\u001b[0m \u001b[0mdata_names\u001b[0m\u001b[1;33m,\u001b[0m \u001b[0mindex\u001b[0m\u001b[1;33m,\u001b[0m \u001b[0mcolumns\u001b[0m\u001b[1;33m,\u001b[0m \u001b[0mdtype\u001b[0m\u001b[1;33m=\u001b[0m\u001b[0mdtype\u001b[0m\u001b[1;33m,\u001b[0m \u001b[0mtyp\u001b[0m\u001b[1;33m=\u001b[0m\u001b[0mtyp\u001b[0m\u001b[1;33m,\u001b[0m \u001b[0mconsolidate\u001b[0m\u001b[1;33m=\u001b[0m\u001b[0mcopy\u001b[0m\u001b[1;33m\u001b[0m\u001b[1;33m\u001b[0m\u001b[0m\n\u001b[0;32m    466\u001b[0m     )\n",
      "\u001b[1;32m~\\anaconda3\\lib\\site-packages\\pandas\\core\\internals\\construction.py\u001b[0m in \u001b[0;36marrays_to_mgr\u001b[1;34m(arrays, arr_names, index, columns, dtype, verify_integrity, typ, consolidate)\u001b[0m\n\u001b[0;32m    133\u001b[0m \u001b[1;33m\u001b[0m\u001b[0m\n\u001b[0;32m    134\u001b[0m     \u001b[1;32mif\u001b[0m \u001b[0mtyp\u001b[0m \u001b[1;33m==\u001b[0m \u001b[1;34m\"block\"\u001b[0m\u001b[1;33m:\u001b[0m\u001b[1;33m\u001b[0m\u001b[1;33m\u001b[0m\u001b[0m\n\u001b[1;32m--> 135\u001b[1;33m         return create_block_manager_from_arrays(\n\u001b[0m\u001b[0;32m    136\u001b[0m             \u001b[0marrays\u001b[0m\u001b[1;33m,\u001b[0m \u001b[0marr_names\u001b[0m\u001b[1;33m,\u001b[0m \u001b[0maxes\u001b[0m\u001b[1;33m,\u001b[0m \u001b[0mconsolidate\u001b[0m\u001b[1;33m=\u001b[0m\u001b[0mconsolidate\u001b[0m\u001b[1;33m\u001b[0m\u001b[1;33m\u001b[0m\u001b[0m\n\u001b[0;32m    137\u001b[0m         )\n",
      "\u001b[1;32m~\\anaconda3\\lib\\site-packages\\pandas\\core\\internals\\managers.py\u001b[0m in \u001b[0;36mcreate_block_manager_from_arrays\u001b[1;34m(arrays, names, axes, consolidate)\u001b[0m\n\u001b[0;32m   1771\u001b[0m \u001b[1;33m\u001b[0m\u001b[0m\n\u001b[0;32m   1772\u001b[0m     \u001b[1;32mtry\u001b[0m\u001b[1;33m:\u001b[0m\u001b[1;33m\u001b[0m\u001b[1;33m\u001b[0m\u001b[0m\n\u001b[1;32m-> 1773\u001b[1;33m         \u001b[0mblocks\u001b[0m \u001b[1;33m=\u001b[0m \u001b[0m_form_blocks\u001b[0m\u001b[1;33m(\u001b[0m\u001b[0marrays\u001b[0m\u001b[1;33m,\u001b[0m \u001b[0mnames\u001b[0m\u001b[1;33m,\u001b[0m \u001b[0maxes\u001b[0m\u001b[1;33m,\u001b[0m \u001b[0mconsolidate\u001b[0m\u001b[1;33m)\u001b[0m\u001b[1;33m\u001b[0m\u001b[1;33m\u001b[0m\u001b[0m\n\u001b[0m\u001b[0;32m   1774\u001b[0m         \u001b[0mmgr\u001b[0m \u001b[1;33m=\u001b[0m \u001b[0mBlockManager\u001b[0m\u001b[1;33m(\u001b[0m\u001b[0mblocks\u001b[0m\u001b[1;33m,\u001b[0m \u001b[0maxes\u001b[0m\u001b[1;33m)\u001b[0m\u001b[1;33m\u001b[0m\u001b[1;33m\u001b[0m\u001b[0m\n\u001b[0;32m   1775\u001b[0m     \u001b[1;32mexcept\u001b[0m \u001b[0mValueError\u001b[0m \u001b[1;32mas\u001b[0m \u001b[0me\u001b[0m\u001b[1;33m:\u001b[0m\u001b[1;33m\u001b[0m\u001b[1;33m\u001b[0m\u001b[0m\n",
      "\u001b[1;32m~\\anaconda3\\lib\\site-packages\\pandas\\core\\internals\\managers.py\u001b[0m in \u001b[0;36m_form_blocks\u001b[1;34m(arrays, names, axes, consolidate)\u001b[0m\n\u001b[0;32m   1860\u001b[0m \u001b[1;33m\u001b[0m\u001b[0m\n\u001b[0;32m   1861\u001b[0m     \u001b[1;32mif\u001b[0m \u001b[0mlen\u001b[0m\u001b[1;33m(\u001b[0m\u001b[0mitems_dict\u001b[0m\u001b[1;33m[\u001b[0m\u001b[1;34m\"ObjectBlock\"\u001b[0m\u001b[1;33m]\u001b[0m\u001b[1;33m)\u001b[0m \u001b[1;33m>\u001b[0m \u001b[1;36m0\u001b[0m\u001b[1;33m:\u001b[0m\u001b[1;33m\u001b[0m\u001b[1;33m\u001b[0m\u001b[0m\n\u001b[1;32m-> 1862\u001b[1;33m         object_blocks = _simple_blockify(\n\u001b[0m\u001b[0;32m   1863\u001b[0m             \u001b[0mitems_dict\u001b[0m\u001b[1;33m[\u001b[0m\u001b[1;34m\"ObjectBlock\"\u001b[0m\u001b[1;33m]\u001b[0m\u001b[1;33m,\u001b[0m \u001b[0mnp\u001b[0m\u001b[1;33m.\u001b[0m\u001b[0mobject_\u001b[0m\u001b[1;33m,\u001b[0m \u001b[0mconsolidate\u001b[0m\u001b[1;33m=\u001b[0m\u001b[0mconsolidate\u001b[0m\u001b[1;33m\u001b[0m\u001b[1;33m\u001b[0m\u001b[0m\n\u001b[0;32m   1864\u001b[0m         )\n",
      "\u001b[1;32m~\\anaconda3\\lib\\site-packages\\pandas\\core\\internals\\managers.py\u001b[0m in \u001b[0;36m_simple_blockify\u001b[1;34m(tuples, dtype, consolidate)\u001b[0m\n\u001b[0;32m   1901\u001b[0m         \u001b[1;32mreturn\u001b[0m \u001b[0m_tuples_to_blocks_no_consolidate\u001b[0m\u001b[1;33m(\u001b[0m\u001b[0mtuples\u001b[0m\u001b[1;33m,\u001b[0m \u001b[0mdtype\u001b[0m\u001b[1;33m=\u001b[0m\u001b[0mdtype\u001b[0m\u001b[1;33m)\u001b[0m\u001b[1;33m\u001b[0m\u001b[1;33m\u001b[0m\u001b[0m\n\u001b[0;32m   1902\u001b[0m \u001b[1;33m\u001b[0m\u001b[0m\n\u001b[1;32m-> 1903\u001b[1;33m     \u001b[0mvalues\u001b[0m\u001b[1;33m,\u001b[0m \u001b[0mplacement\u001b[0m \u001b[1;33m=\u001b[0m \u001b[0m_stack_arrays\u001b[0m\u001b[1;33m(\u001b[0m\u001b[0mtuples\u001b[0m\u001b[1;33m,\u001b[0m \u001b[0mdtype\u001b[0m\u001b[1;33m)\u001b[0m\u001b[1;33m\u001b[0m\u001b[1;33m\u001b[0m\u001b[0m\n\u001b[0m\u001b[0;32m   1904\u001b[0m \u001b[1;33m\u001b[0m\u001b[0m\n\u001b[0;32m   1905\u001b[0m     \u001b[1;31m# TODO: CHECK DTYPE?\u001b[0m\u001b[1;33m\u001b[0m\u001b[1;33m\u001b[0m\u001b[1;33m\u001b[0m\u001b[0m\n",
      "\u001b[1;32m~\\anaconda3\\lib\\site-packages\\pandas\\core\\internals\\managers.py\u001b[0m in \u001b[0;36m_stack_arrays\u001b[1;34m(tuples, dtype)\u001b[0m\n\u001b[0;32m   1955\u001b[0m     \u001b[0mshape\u001b[0m \u001b[1;33m=\u001b[0m \u001b[1;33m(\u001b[0m\u001b[0mlen\u001b[0m\u001b[1;33m(\u001b[0m\u001b[0marrays\u001b[0m\u001b[1;33m)\u001b[0m\u001b[1;33m,\u001b[0m\u001b[1;33m)\u001b[0m \u001b[1;33m+\u001b[0m \u001b[0mfirst\u001b[0m\u001b[1;33m.\u001b[0m\u001b[0mshape\u001b[0m\u001b[1;33m\u001b[0m\u001b[1;33m\u001b[0m\u001b[0m\n\u001b[0;32m   1956\u001b[0m \u001b[1;33m\u001b[0m\u001b[0m\n\u001b[1;32m-> 1957\u001b[1;33m     \u001b[0mstacked\u001b[0m \u001b[1;33m=\u001b[0m \u001b[0mnp\u001b[0m\u001b[1;33m.\u001b[0m\u001b[0mempty\u001b[0m\u001b[1;33m(\u001b[0m\u001b[0mshape\u001b[0m\u001b[1;33m,\u001b[0m \u001b[0mdtype\u001b[0m\u001b[1;33m=\u001b[0m\u001b[0mdtype\u001b[0m\u001b[1;33m)\u001b[0m\u001b[1;33m\u001b[0m\u001b[1;33m\u001b[0m\u001b[0m\n\u001b[0m\u001b[0;32m   1958\u001b[0m     \u001b[1;32mfor\u001b[0m \u001b[0mi\u001b[0m\u001b[1;33m,\u001b[0m \u001b[0marr\u001b[0m \u001b[1;32min\u001b[0m \u001b[0menumerate\u001b[0m\u001b[1;33m(\u001b[0m\u001b[0marrays\u001b[0m\u001b[1;33m)\u001b[0m\u001b[1;33m:\u001b[0m\u001b[1;33m\u001b[0m\u001b[1;33m\u001b[0m\u001b[0m\n\u001b[0;32m   1959\u001b[0m         \u001b[0mstacked\u001b[0m\u001b[1;33m[\u001b[0m\u001b[0mi\u001b[0m\u001b[1;33m]\u001b[0m \u001b[1;33m=\u001b[0m \u001b[0marr\u001b[0m\u001b[1;33m\u001b[0m\u001b[1;33m\u001b[0m\u001b[0m\n",
      "\u001b[1;31mMemoryError\u001b[0m: Unable to allocate 264. MiB for an array with shape (1, 34551849) and data type object"
     ]
    }
   ],
   "source": [
    "import numpy as np\n",
    "import pandas as pd\n",
    "import datetime as dt\n",
    "import random\n",
    "import string\n",
    "import hashlib\n",
    "import json\n",
    "\n",
    "#Loading data\n",
    "columns_name = ['id', 'date', 'latitude', 'longitude' ]\n",
    "file_name = 'DAZC_481'\n",
    "\n",
    "df = pd.read_csv('database', names = columns_name, sep = '\\t')\n",
    "df['date'] = df['date'].str.slice(stop = 16)\n",
    "df['date'] = pd.to_datetime(df['date'], format = \"%Y-%m-%d %H:%M\")\n",
    "df['week'] = df['date'].dt.isocalendar().week\n"
   ]
  },
  {
   "cell_type": "code",
   "execution_count": null,
   "metadata": {},
   "outputs": [],
   "source": [
    "anon = pd.read_csv('./files/'+file_name, names = columns_name, sep = '\\t')\n",
    "anon = anon.loc[anon.id != 'DEL']\n",
    "anon['date'] = anon['date'].str.slice(stop = 16)\n",
    "anon['date'] = pd.to_datetime(anon['date'], format = \"%Y-%m-%d %H:%M\")\n",
    "anon['week'] = anon['date'].dt.isocalendar().week\n",
    "anon.latitude = anon.latitude.astype(float)\n",
    "anon.longitude = anon.longitude.astype(float)\n",
    "#print(anon.head())"
   ]
  },
  {
   "cell_type": "code",
   "execution_count": null,
   "metadata": {},
   "outputs": [],
   "source": [
    "#List of id origin, id anonym, group of id-week\n",
    "\n",
    "id_week_anon = anon.groupby('id')['week'].unique()\n",
    "id_week_ori = df.groupby('id')['week'].unique()\n",
    "\n",
    "list_id_anon = anon[\"id\"].unique()\n",
    "list_id_ori = df[\"id\"].unique()\n",
    "#print(np.sort(list_id_anon), len(list_id_anon))"
   ]
  },
  {
   "cell_type": "code",
   "execution_count": 4,
   "metadata": {},
   "outputs": [],
   "source": [
    "#Group id--week--moyen_latitude--moyen_longitude--mean_date--count_line--mean_hour\n",
    "\n",
    "#Table origin\n",
    "df['hour'] = df['date'].dt.hour\n",
    "mean_hour = df.groupby(['id','week'])['hour'].mean()\n",
    "\n",
    "mean_lat_ori = df.groupby(['id','week'])['latitude'].mean()\n",
    "mean_long_ori = df.groupby(['id','week'])['longitude'].mean()\n",
    "\n",
    "mean_date_ori = df.groupby(['id','week'])['date'].mean()\n",
    "count_ligne_ori = df.groupby(['id','week'])['date'].count()\n",
    "mean_hour = df.groupby(['id','week'])['hour'].mean()\n",
    "\n",
    "ori_mean = df[['id','week']].drop_duplicates().reset_index(drop=True)\n",
    "ori_mean['mean_latitude'] = ori_mean.apply(lambda x: mean_lat_ori[x.id][x.week], axis=1)\n",
    "ori_mean['mean_longitude'] = ori_mean.apply(lambda x: mean_long_ori[x.id][x.week], axis=1)\n",
    "ori_mean['mean_date'] = ori_mean.apply(lambda x: mean_date_ori[x.id][x.week], axis=1)\n",
    "ori_mean['count_line'] = ori_mean.apply(lambda x: count_ligne_ori[x.id][x.week], axis=1)\n",
    "ori_mean['mean_hour'] = ori_mean.apply(lambda x: mean_hour[x.id][x.week], axis=1)\n",
    "\n",
    "#Table anonym\n",
    "anon['hour'] = anon['date'].dt.hour\n",
    "mean_lat_anon = anon.groupby(['id','week'])['latitude'].mean()\n",
    "mean_long_anon = anon.groupby(['id','week'])['longitude'].mean()\n",
    "mean_date_anon = anon.groupby(['id','week'])['date'].mean()\n",
    "count_ligne_anon = anon.groupby(['id','week'])['date'].count()\n",
    "mean_hour_anon = anon.groupby(['id','week'])['hour'].mean()\n",
    "\n",
    "anon_mean = anon[['id','week']].drop_duplicates().reset_index(drop=True)\n",
    "anon_mean['mean_latitude'] = anon_mean.apply(lambda x: mean_lat_anon[x.id][x.week] , axis=1)\n",
    "anon_mean['mean_longitude'] = anon_mean.apply(lambda x: mean_long_anon[x.id][x.week], axis=1)\n",
    "anon_mean['mean_date'] = anon_mean.apply(lambda x: mean_date_anon[x.id][x.week], axis=1)\n",
    "anon_mean['count_line'] = anon_mean.apply(lambda x: count_ligne_anon[x.id][x.week], axis=1)\n",
    "anon_mean['mean_hour'] = anon_mean.apply(lambda x: mean_hour_anon[x.id][x.week], axis=1)"
   ]
  },
  {
   "cell_type": "code",
   "execution_count": 7,
   "metadata": {},
   "outputs": [
    {
     "name": "stdout",
     "output_type": "stream",
     "text": [
      "239\n"
     ]
    }
   ],
   "source": [
    "ori_mean['new_id'] = ori_mean['id']\n",
    "scale = anon.shape[0] / df.shape[0]\n",
    "for i in list_id_ori:\n",
    "    for w in id_week_ori[i]:\n",
    "        list_distance = list() \n",
    "        mean_lat = ori_mean.loc[(ori_mean.id == i)&(ori_mean.week ==w),'mean_latitude'].to_list()[0]\n",
    "        mean_long = ori_mean.loc[(ori_mean.id == i)&(ori_mean.week ==w),'mean_longitude'].to_list()[0]\n",
    "        mean_date = ori_mean.loc[(ori_mean.id == i)&(ori_mean.week ==w),'mean_date'].to_list()[0]\n",
    "        number_line = ori_mean.loc[(ori_mean.id == i)&(ori_mean.week ==w),'count_line'].to_list()[0]\n",
    "        mean_hour = ori_mean.loc[(ori_mean.id == i)&(ori_mean.week ==w),'mean_hour'].to_list()[0]\n",
    "        \n",
    "        group_week = anon_mean.loc[anon_mean.week ==w,['id','week','mean_latitude','mean_longitude','count_line','mean_date','mean_hour']].reset_index(drop=True)\n",
    "        for j in range(len(group_week)):\n",
    "            distance = np.power((group_week.mean_latitude[j] - mean_lat)**2 + (group_week.mean_longitude[j] - mean_long)**2, 1/2)\n",
    "            \n",
    "            delta_ratio = np.power(abs((group_week.count_line[j]/anon.shape[0] - number_line/df.shape[0])),4)\n",
    "            delta_time = np.power(abs((group_week.mean_date[j] - mean_date).total_seconds() / 3600),1)\n",
    "            \n",
    "            \n",
    "            delta_hour = np.power(abs((group_week.mean_hour[j] - mean_hour)) ,1/2)\n",
    "            \n",
    "            list_distance.append(distance*delta_count*delta_hour) #*delta_count*delta_time*distance*delta_hour\n",
    "            \n",
    "        index = list_distance.index(min(list_distance))\n",
    "        l = id_week_anon[group_week.id[index]]# list of week have id anon_mean.id[index] \n",
    "        while ((w not in l)):\n",
    "            list_distance[index] = 1000000000\n",
    "            index = list_distance.index(min(list_distance).all())\n",
    "            l = id_week_anon[group_week.id[index]]\n",
    "        if (w in l):\n",
    "            ori_mean.loc[(ori_mean.id == i)&(ori_mean.week ==w),'new_id'] = group_week.id[index]\n",
    "        \n",
    "#print(ori_mean.head())\n",
    "print(ori_mean.new_id.nunique())\n",
    "\n",
    "result = {}\n",
    "count2 = 0\n",
    "for i in list_id_ori:\n",
    "    result[str(i)] = {}\n",
    "    for w in id_week_ori[i]:\n",
    "        result[str(i)]['2015'+'-'+str(w)] = [str(ori_mean.loc[(ori_mean.id == i)&(ori_mean.week ==w),'new_id'][count2])]\n",
    "        count2 +=1\n",
    "with open('attack_'+file_name, 'w') as fp:\n",
    "    json.dump(result, fp, indent=1)\n"
   ]
  },
  {
   "cell_type": "code",
   "execution_count": 60,
   "metadata": {},
   "outputs": [
    {
     "name": "stdout",
     "output_type": "stream",
     "text": [
      "      id  week  day  count\n",
      "1005  41    11   10      1\n",
      "34     1    15    7      1\n",
      "71     2    10    5      1\n",
      "648   13    11   14      1\n",
      "692   13    20   11      2\n",
      "...   ..   ...  ...    ...\n",
      "2209   4    19    8  60620\n",
      "1256  62    10    4  60826\n",
      "1304  62    19    4  61414\n",
      "1265  62    11   13  61813\n",
      "781   28    12   22  61846\n",
      "\n",
      "[2223 rows x 4 columns]\n",
      "              id  week  day  count\n",
      "2139  ?SBHZCa~#5    20   13      1\n",
      "919    yko6M2b._    15   11      1\n",
      "909    <xOs8C>tb    12   22      1\n",
      "2142  ?SBHZCa~#5    20   12      1\n",
      "2141   vByHr)d3!    12   22      1\n",
      "...          ...   ...  ...    ...\n",
      "2228  @-v/S>{FO7    10    7  51507\n",
      "1365   \"*=SlkE$+    10    7  52615\n",
      "2146  /BLyN)$Mh.    12   17  53966\n",
      "1010  -j%ZAGf)62    19    9  55462\n",
      "355    Y<R;XoKD`    10    7  56752\n",
      "\n",
      "[2948 rows x 4 columns]\n"
     ]
    }
   ],
   "source": [
    "#df['day'] = df['date'].dt.day\n",
    "df['hour'] = df['date'].dt.hour\n",
    "ori_count_day = df[['id','week','day']].drop_duplicates().reset_index(drop=True)\n",
    "count_ori = df.groupby(['id','week','day'])['day'].count()\n",
    "ori_count_day['count'] = ori_count_day.apply(lambda x: count_ori[x.id][x.week][x.day], axis=1)\n",
    "\n",
    "anon['day'] = anon['date'].dt.day\n",
    "anon['hour'] = anon['date'].dt.hour\n",
    "anon_count_day = anon[['id','week','day']].drop_duplicates().reset_index(drop=True)\n",
    "count_anon = anon.groupby(['id','week','day'])['day'].count()\n",
    "anon_count_day['count'] = anon_count_day.apply(lambda x: count_anon[x.id][x.week][x.day], axis=1)\n",
    "\n",
    "ori_count_day = ori_count_day.sort_values('count')\n",
    "anon_count_day = anon_count_day.sort_values('count')\n",
    "print(ori_count_day)\n",
    "print(anon_count_day)"
   ]
  },
  {
   "cell_type": "code",
   "execution_count": 394,
   "metadata": {},
   "outputs": [
    {
     "data": {
      "text/plain": [
       "id          week  day\n",
       "\"'1SyzA)c5  14    1      20866\n",
       "                  2      19920\n",
       "                  3      23598\n",
       "                  4      24844\n",
       "                  5      23056\n",
       "                         ...  \n",
       "zuE]d~pD4   10    4       7246\n",
       "                  5       8460\n",
       "                  6      15832\n",
       "                  7      12246\n",
       "                  8       8469\n",
       "Name: day, Length: 2948, dtype: int64"
      ]
     },
     "execution_count": 394,
     "metadata": {},
     "output_type": "execute_result"
    }
   ],
   "source": [
    "anon_day_count = anon.groupby(['id','week','day'])['day'].count()\n",
    "\n",
    "ori_mean = df[['id','week']].drop_duplicates().reset_index(drop=True)"
   ]
  },
  {
   "cell_type": "code",
   "execution_count": 73,
   "metadata": {},
   "outputs": [
    {
     "name": "stdout",
     "output_type": "stream",
     "text": [
      "['\"/wzu7i9b!', '0Pk86~O2.', '0&5`o]6FI', 'J1R%u6^h.', '1<YsKp^|4', '@SLw*nK~U5', 'Y/v,H:)\\\\.', '<@Pm:6pFO+', \"?@w,y%ldM'\", '\"TPk}p$D9\\'', \"J=&kr)|'7I\", \"J<xRCG('.4\", '1*wNqkn!\\\\7', 'J-PNH$29b5', 'BsqmQEpdb7', 'fEG:Vp{d#', 'Y0;`7VO|#4', '?/Nq)Kn^p', 'J-&s;z^c', '=GX7nK>b#', '-*[zQC{W#', 'L&Nyp6FU.', ',*jHfV:pt.', '0PCfE)t', 'T@SykXo]gb', 'J*=sr6Kg~', \"JYRzhfVD2'\", 'R&G}frnip|', '/BLyN)$Mh.', '\"1jysk>V$7', '0-PTYqn62', \"Smeri{ng'`\", \"@L&zC`V'I\", 'TYLv]p~6O\\\\', '[mr>:i9\\\\', '=l;)Ki$#^.', '<LeqGrdO\\\\`', ',NHX]~^O', 'xH.QGfr)!', 'Z5)6p$FDW_', \"[BZmA8ni'7\", '\"J1wvXV{gI', '?TE{g^t(M+', '0LNk}on{~', '/,f>nK$(5', '/Lvsz]MWU7', '@wQGi6M\\\\7', '1PLHtng+(4', 'x@&mqX$2!5', 'PxBRqfoD_', '\"B&zu}c7_', 'v=&BmZ;63W', '[v=Hk]K{\\\\#', '0,[Llkr]{', 'P/ju{~^O4', 'J@CE}V{~^g', '?01[sqX)~+', 'xD%]i3|U`', '\"1@5>a6$7_', 'zA}r62Uc.I', '0s^O|#_', 'YxLN5g^W#I', \"?LZE$t'75\", '4PS8i|Wc`', '0-,N~9.', '1-YBvX>{(_', '4T-<Zk6t7I', 'wytzf]nD5', 'PxB%}$+c5', 'vLjNHOuQtU', '0vBjNe8uF#', '?1Gi!^(U.5', '=m.kQg3(\\\\!', '\"T<xZnK!`', '0wvl]t(h#4', 'x[ZHAk$^95', '&bHE}i{$U5', '?-[HfnKh7', '1j&INu:~34', '\"0xvyGo{9_', '[&eA8>7^.', 'T-/1Co~(Ub', \"JxwjIel}'+\", \"?=vq;:pM'.\", 'YPBq}VK(c', \"'wkAEo{^U#\", '<xOs8C>tb', '1&Ne.Q>)b#', 'Y@,R0&yLzu', '<1R&l8fnc+', \"@-yNqQn|h'\", \"<,&eEa]p^'\", '?0RmqA8ng|', '\"Sm}^D|#', '-/*qEi$gW.', 'Y<=[%A}nF4', \"'1LGiK2b\", \"4xHsC]dO'`\", 'T[yNuCf}MW', 'Y*esEV>p32', 'RXr|F(2b.`', 'L=szX)(h|5', 'x*vskqoVd`', 'wez;fVigD(', \"QG6gMU\\\\'.4\", '1@*=Qr~Db!', '\"x&lkz}oi5', '/lVn)O97I', '\"BNH%GX:dc', '/%N;Qn|95', '0w*f)K$\\\\I', 'T*%Zqu:t7I', '<OjHk;raD`', 'T@w/0xaiDM', '?\"@luC]pF9', 'Y@[Aur^3#_', '?vlV:7!tM#', '\"Sb%i$Wc!_', '-@CfK|Wc4', '01[qzGn.I', '?10SZA:I', '0D,N%kQapM', 'TRjBo)dgW+', 'P*,%ZGohU', 'SHs;onOU`', 'xvyN]K$2b#', 'x/,y]pi2.+', '0,[qtuCK$3', 'zuE]d~pD4', 'P,[yHEKO2', 'J@,LR&sek)', 'Y=%p!^FM7', '?0*s8o]6rc', '\"0L}a)n:$5', '0<*sX:{gh5', 'xlqCGidh.', '?*NAXr>674', ';Qz6F329`', 'N.){n^9!5', \"x%E_ng3'74\", 'JY/*,&e26W', '1-xe;V]#`', '<xP0QXp~$F', 'vByHr)d3!', '\"T<[;V)W', 'T@<yk;}oi^', '@s8}:n]dg+', \"@/ZuC}O|'#\", '1PSL/%8Q{', \",yzGaV3'+\", '?[jy8raO(', 'J1=NZ~29.5', '3H}a)p^D', '?JxRz]{9', 'JTDvR}t2#4', 'PL[Nsmu:D.', 'PL%kCErMU', '<S=%NQGDb4', '?TP-vB6Ob_', 'T0LRXaF\\\\', '\"4<ef~+#`', '/=v*Chi^2`', '=H8Q6W9cI', 'Tw;zXr3(M', '%qV:!#t27', 'w;f}G^D25', '-v&%Vr:3\\\\', '1x&yZqCpOI', '*Rse>iV^c', 'PLNfipWc!`', '1@,RAQar9', 'PsZo{3|U_', 'Tv[Bye8iOc', '@SL*HAf}op', 'wy&e)]63\\\\.', '<jAE:t(|', '?Tw[ZC>{FD', 'T<sEfoFDhU', 'R;Q})pU.', 'x&mQ}Xn]\\\\+', 'SRsq8!#I', '\"1@xufr$!+', 'J@/NuE:i9\\\\', ',vysA8n)^t', '\"Y=ZlAip6{', 'RL%esp6\\\\#4', '1[%smCXo6#', 'x@-mkC:K3_', 'RZHquQE}i|', '@ReX$2Ub5', 'yIsN}iO|!4', 'YBNlXod~3_', '?0PL&%eQ]p', '\"0BA;uX]c', 'JTRj&NEa>o', '0Tj>o$Db.I', \"YPNsuXph'_\", \"Y,yseod'\", 'Nr:dpFb!`', 'JTyV>~gb!4', '40xeQufgb+', '-x=:)KMU', 'LN>id{VnM5', 'x=Bko]D2.4', '?J<*LnO\\\\U.', '0=NzapFO|', '?0@vHE)FDc', '?r]d{$2`', '<LjyQE}Xc5', '0[%Iq8Xrn4', '1/Rj%ZAdD', 'J*=mCr6D2+', \"<wLkz:iF'\", '0vHf6DU#5', '4/f>i3|2c5', '-%eAon>D2U', '?3[vNH^FM', 'RL8a]K~gpc', '0-BNkd(+', '01xQriK>W5', '0@SNl8]K3W', \"-,DadFtW9'\", '1T*3&enO9`', ',R[]$^3I', '0-Svlr>]d|', '1BZkHE:$g\\\\', '@/RBXa6M#', '1*O[B&=8D\\\\', '\"N%QfV^FhU', '-j%ZAGf)62'] 230\n"
     ]
    }
   ],
   "source": [
    "\n",
    "list_ori = list()\n",
    "list_ano_id = list()\n",
    "one_time = list()\n",
    "file_compare = 'attack_DAZC_481_no_distance'\n",
    "with open(file_compare) as o:\n",
    "    ori_file = json.load(o)\n",
    "    for _id in ori_file:\n",
    "        for week in ori_file[_id]:\n",
    "            list_ori.append(str(_id)+'-'+week[5:])\n",
    "            list_ano_id.append(ori_file[_id][week][0])\n",
    "#print(list_ori, len(list_ori))\n",
    "list_diff = list()\n",
    "with open('diff.json') as f:\n",
    "    diff = json.load(f)\n",
    "    for _id in diff:\n",
    "        for week in diff[_id]:\n",
    "            list_diff.append(str(_id)+'-'+week[5:])\n",
    "#print(list_diff, len(list_diff))\n",
    "list_true = list(set(list_ori) - set(list_diff))\n",
    "#print(list_true, len(list_true))\n",
    "#print(list_ano_id)\n",
    "for i in list_ano_id:\n",
    "    if list_ano_id.count(i) ==1:\n",
    "        one_time.append(i)\n",
    "print(one_time, len(one_time))"
   ]
  },
  {
   "cell_type": "code",
   "execution_count": 75,
   "metadata": {},
   "outputs": [
    {
     "name": "stdout",
     "output_type": "stream",
     "text": [
      "['1-10', '1-11', '1-12', '1-13', '1-14', '1-15', '1-18', '2-11', '2-14', '2-15', '107-12', '98-10', '98-11', '21-11', '9-10', '9-16', '6-10', '6-11', '6-12', '6-15', '7-15', '7-17', '8-10', '8-11', '8-13', '8-16', '8-17', '11-11', '17-12', '17-13', '15-10', '15-11', '15-12', '44-10', '44-13', '42-11', '42-13', '42-14', '42-15', '16-10', '16-12', '23-11', '32-12', '32-14', '32-15', '32-16', '32-17', '32-18', '24-11', '24-12', '24-15', '24-16', '37-11', '13-10', '13-12', '13-13', '13-16', '13-17', '13-19', '13-20', '26-10', '26-12', '26-13', '26-15', '26-16', '26-17', '26-18', '26-19', '31-11', '31-13', '31-14', '31-15', '28-12', '28-13', '89-18', '29-11', '29-13', '27-11', '27-12', '27-13', '27-14', '27-16', '30-12', '30-13', '30-14', '30-19', '34-12', '38-12', '36-18', '39-10', '39-18', '35-13', '35-15', '54-11', '54-13', '54-14', '41-10', '41-11', '41-12', '41-14', '41-15', '55-11', '55-12', '49-12', '49-13', '49-14', '49-16', '50-12', '50-13', '50-15', '50-17', '50-19', '43-11', '43-13', '43-19', '60-11', '60-19', '51-11', '51-15', '51-16', '51-17', '51-19', '52-13', '62-11', '62-12', '62-15', '62-18', '62-19', '59-10', '59-12', '59-13', '59-16', '59-18', '59-19', '63-10', '63-12', '63-13', '63-14', '63-17', '63-18', '53-11', '53-12', '53-14', '65-12', '75-11', '75-12', '75-13', '75-14', '75-16', '75-17', '75-18', '75-19', '18-10', '18-12', '18-17', '18-18', '67-11', '67-14', '67-16', '67-17', '67-18', '67-19', '68-11', '68-12', '68-13', '68-14', '68-15', '68-16', '68-18', '68-19', '68-20', '66-14', '66-16', '66-18', '66-19', '70-12', '70-13', '70-14', '77-10', '77-12', '77-18', '84-12', '69-15', '69-19', '72-11', '72-12', '72-13', '72-14', '72-15', '72-16', '72-17', '72-18', '72-19', '71-12', '71-14', '71-16', '71-18', '73-10', '73-12', '73-15', '73-16', '73-17', '73-18', '73-19', '81-14', '81-15', '78-10', '78-11', '78-12', '78-13', '78-14', '78-16', '78-17', '78-18', '83-10', '83-13', '83-15', '83-17', '83-18', '83-19', '87-10', '87-16', '87-17', '58-11', '4-11', '4-12', '4-13', '4-15', '4-17', '4-19'] 230\n"
     ]
    }
   ],
   "source": [
    "id_true = list()\n",
    "with open(file_compare) as o:\n",
    "    ori_file = json.load(o)\n",
    "    for id_week in list_ori:\n",
    "        w = '2015-'+id_week[-2:]\n",
    "        _id = id_week[:-3]\n",
    "        anon_id = ori_file[_id][w][0]\n",
    "        #print(anon_id, type(anon_id))\n",
    "        if (str(anon_id) in one_time):\n",
    "            id_true.append(id_week)\n",
    "print(id_true, len(id_true))\n",
    "        \n",
    "    "
   ]
  },
  {
   "cell_type": "code",
   "execution_count": 81,
   "metadata": {
    "scrolled": true
   },
   "outputs": [
    {
     "name": "stdout",
     "output_type": "stream",
     "text": [
      "id    week\n",
      "1028  13     -12.302976\n",
      "109   20     -17.451698\n",
      "134   19      -0.571292\n",
      "141   11      -5.749388\n",
      "143   14      -1.644761\n",
      "211   15      -1.611280\n",
      "213   14     -12.338260\n",
      "225   15      -6.273959\n",
      "245   18     -12.296404\n",
      "258   20     -12.288348\n",
      "271   17      -0.570891\n",
      "289   10      -0.562153\n",
      "29    17      -1.611321\n",
      "296   13      -0.768294\n",
      "324   10      -0.574468\n",
      "362   17     -12.287612\n",
      "367   10      -0.569978\n",
      "4     10      -0.573120\n",
      "406   10      -0.569984\n",
      "408   12      -1.067864\n",
      "420   11      -0.606418\n",
      "470   15     -12.056009\n",
      "528   10      -0.570172\n",
      "567   10     -14.733248\n",
      "661   15      -1.657086\n",
      "708   16      -6.269617\n",
      "731   16      -1.248874\n",
      "736   12     -12.289691\n",
      "746   12      -0.691173\n",
      "      13      -1.124147\n",
      "755   19      -9.876525\n",
      "784   11      -0.578573\n",
      "793   11      -0.575497\n",
      "823   19      -4.351480\n",
      "860   13      -0.574864\n",
      "865   14      -0.996224\n",
      "871   10      -0.571390\n",
      "873   18      -1.618034\n",
      "880   14      -1.612137\n",
      "883   16     -12.288456\n",
      "897   20      -4.858576\n",
      "911   11     -12.915810\n",
      "      18      -3.856704\n",
      "965   11      -0.623118\n",
      "997   15      -1.672653\n",
      "Name: latitude, dtype: float64\n",
      "45\n"
     ]
    }
   ],
   "source": [
    "nega_lat = anon.loc[anon['latitude'] < 0].groupby(['id','week'])['latitude'].mean()\n",
    "print(nega_lat)\n",
    "print(len(nega_lat))"
   ]
  },
  {
   "cell_type": "code",
   "execution_count": 19,
   "metadata": {},
   "outputs": [
    {
     "name": "stdout",
     "output_type": "stream",
     "text": [
      "id   week\n",
      "1    15     -97.749255\n",
      "     16     -97.688508\n",
      "     18      -1.798019\n",
      "     20      -5.451773\n",
      "4    20     -17.451698\n",
      "8    11      -0.623015\n",
      "     13      -0.574869\n",
      "     16      -1.248818\n",
      "11   10      -0.562127\n",
      "     11      -0.575139\n",
      "13   10      -0.569981\n",
      "14   10      -0.577909\n",
      "     11      -0.566633\n",
      "15   10      -0.569962\n",
      "16   10      -0.571382\n",
      "17   10      -0.574534\n",
      "     11      -0.578577\n",
      "21   10      -0.583377\n",
      "     11      -0.566780\n",
      "23   10      -0.572587\n",
      "24   14      -1.644390\n",
      "     15      -1.657268\n",
      "     17      -0.570890\n",
      "     19      -0.571296\n",
      "25   10      -0.573133\n",
      "31   12      -1.068339\n",
      "     13      -1.124160\n",
      "     14      -0.996729\n",
      "42   10     -46.863902\n",
      "50   11      -5.749388\n",
      "51   15      -1.672635\n",
      "59   14     -32.919764\n",
      "     18      -3.856955\n",
      "62   15      -6.273879\n",
      "     16      -6.269619\n",
      "73   10      -0.569804\n",
      "     11      -0.607911\n",
      "     12      -0.689934\n",
      "     13      -0.768109\n",
      "     14      -1.612145\n",
      "     15      -1.611281\n",
      "     17      -1.611318\n",
      "110  10      -1.670039\n",
      "Name: latitude, dtype: float64\n",
      "43\n"
     ]
    }
   ],
   "source": [
    "#df['latitude'] = df['latitude'].round(decimals=2)    \n",
    "#df['longitude'] = df['longitude'].round(decimals=2)\n",
    "\n",
    "nega_lat = df.loc[df['latitude'] < 0].groupby(['id','week'])['latitude'].mean()\n",
    "\n",
    "print(nega_lat)\n",
    "print(len(nega_lat))"
   ]
  },
  {
   "cell_type": "code",
   "execution_count": 425,
   "metadata": {},
   "outputs": [
    {
     "name": "stdout",
     "output_type": "stream",
     "text": [
      "id   week\n",
      "0    10      [45.78, 45.79, 44.84, 44.83, 44.85]\n",
      "1    16             [45.77, 45.78, 45.79, 45.76]\n",
      "10   16                    [45.78, 45.77, 45.79]\n",
      "100  18                           [45.78, 45.77]\n",
      "101  20                                  [45.78]\n",
      "                            ...                 \n",
      "95   16       [45.78, 45.8, 45.77, 45.76, 45.79]\n",
      "96   19                    [45.53, 45.78, 45.79]\n",
      "97   11                    [45.78, 45.76, 45.77]\n",
      "98   10             [45.78, 45.79, 45.77, 45.76]\n",
      "99   10                                  [45.78]\n",
      "Name: longitude, Length: 449, dtype: object\n",
      "449\n"
     ]
    }
   ],
   "source": [
    "pos_long = anon.loc[(anon['longitude'] >= 0)].groupby(['id','week'])['longitude'].unique()#agg(pd.Series.mode)\n",
    "print(pos_long)\n",
    "print(len(pos_long))"
   ]
  },
  {
   "cell_type": "code",
   "execution_count": 57,
   "metadata": {},
   "outputs": [
    {
     "name": "stdout",
     "output_type": "stream",
     "text": [
      "Series([], Name: id, dtype: object)\n",
      "Series([], Name: id, dtype: object)\n",
      "<class 'pandas.core.series.Series'>\n"
     ]
    }
   ],
   "source": [
    "test_la = anon.loc[(anon['latitude'] >10)&(anon['latitude']<11)].groupby(['week'])['id'].unique()#agg(pd.Series.mode)\n",
    "print(test_la)\n",
    "test_lo = anon.loc[(anon['longitude'] >58)&(anon['longitude']<59)].groupby(['week'])['id'].unique()#agg(pd.Series.mode)\n",
    "print(test_lo)\n",
    "print(type(test_lo))"
   ]
  },
  {
   "cell_type": "code",
   "execution_count": 429,
   "metadata": {},
   "outputs": [
    {
     "name": "stdout",
     "output_type": "stream",
     "text": [
      "[  1   2   4   5   6   7   8   9  11  13  14  15  16  17  18  21  23  24\n",
      "  25  26  27  28  29  30  31  32  34  35  36  37  38  39  41  42  43  44\n",
      "  48  49  50  51  52  53  54  55  58  59  60  62  63  65  66  67  68  69\n",
      "  70  71  72  73  75  77  78  81  83  84  87  89  98 107 110]\n",
      "{1: {10: [0], 11: [1], 12: [2], 13: [3], 14: [4], 15: [5], 16: [6], 17: [7], 18: [8], 19: [9], 20: [10]}, 2: {10: [11], 11: [12], 12: [13], 13: [14], 14: [15], 15: [16], 16: [17], 17: [18], 18: [19], 19: [20], 20: [21]}, 4: {10: [22], 11: [23], 12: [24], 13: [25], 14: [26], 15: [27], 16: [28], 17: [29], 18: [30], 19: [31], 20: [32]}, 5: {10: [33], 11: [34]}, 6: {10: [35], 11: [36], 12: [37], 13: [38], 14: [39], 15: [40], 16: [41]}, 7: {10: [42], 11: [43], 12: [44], 13: [45], 14: [46], 15: [47], 16: [48], 17: [49]}, 8: {10: [50], 11: [51], 12: [52], 13: [53], 14: [54], 15: [55], 16: [56], 17: [57]}, 9: {10: [58], 11: [59], 12: [60], 13: [61], 14: [62], 15: [63], 16: [64], 19: [65]}, 11: {10: [66], 11: [67]}, 13: {10: [68], 11: [69], 12: [70], 13: [71], 14: [72], 15: [73], 16: [74], 17: [75], 19: [76], 20: [77]}, 14: {10: [78], 11: [79]}, 15: {10: [80], 11: [81], 12: [82]}, 16: {10: [83], 11: [84], 12: [85]}, 17: {10: [86], 11: [87], 12: [88], 13: [89], 14: [90], 17: [91], 18: [92], 19: [93]}, 18: {10: [94], 12: [95], 13: [96], 15: [97], 16: [98], 17: [99], 18: [100], 19: [101], 20: [102]}, 21: {10: [103], 11: [104]}, 23: {10: [105], 11: [106]}, 24: {10: [107], 11: [108], 12: [109], 13: [110], 14: [111], 15: [112], 16: [113], 17: [114], 18: [115], 19: [116], 20: [117]}, 25: {10: [118], 11: [119]}, 26: {10: [120], 11: [121], 12: [122], 13: [123], 15: [124], 16: [125], 17: [126], 18: [127], 19: [128]}, 27: {10: [129], 11: [130], 12: [131], 13: [132], 14: [133], 15: [134], 16: [135], 17: [136]}, 28: {10: [137], 11: [138], 12: [139], 13: [140], 14: [141]}, 29: {10: [142], 11: [143], 13: [144], 14: [145]}, 30: {10: [146], 11: [147], 12: [148], 13: [149], 14: [150], 15: [151], 16: [152], 17: [153], 18: [154], 19: [155]}, 31: {10: [156], 11: [157], 12: [158], 13: [159], 14: [160], 15: [161], 16: [162]}, 32: {10: [163], 12: [164], 13: [165], 14: [166], 15: [167], 16: [168], 17: [169], 18: [170], 19: [171]}, 34: {10: [172], 11: [173], 12: [174]}, 35: {10: [175], 13: [176], 14: [177], 15: [178], 16: [179]}, 36: {10: [180], 11: [181], 16: [182], 18: [183]}, 37: {10: [184], 11: [185]}, 38: {10: [186], 11: [187], 12: [188]}, 39: {10: [189], 15: [190], 16: [191], 18: [192], 19: [193]}, 41: {10: [194], 11: [195], 12: [196], 13: [197], 14: [198], 15: [199], 16: [200], 17: [201]}, 42: {10: [202], 11: [203], 12: [204], 13: [205], 14: [206], 15: [207], 16: [208], 17: [209], 18: [210], 19: [211], 20: [212]}, 43: {10: [213], 11: [214], 12: [215], 13: [216], 19: [217]}, 44: {10: [218], 11: [219], 12: [220], 13: [221], 15: [222]}, 48: {10: [223], 11: [224], 16: [225]}, 49: {10: [226], 11: [227], 12: [228], 13: [229], 14: [230], 15: [231], 16: [232]}, 50: {10: [233], 11: [234], 12: [235], 13: [236], 14: [237], 15: [238], 16: [239], 17: [240], 18: [241], 19: [242], 20: [243]}, 51: {10: [244], 11: [245], 12: [246], 13: [247], 14: [248], 15: [249], 16: [250], 17: [251], 18: [252], 19: [253], 20: [254]}, 52: {10: [255], 11: [256], 12: [257], 13: [258], 14: [259]}, 53: {11: [260], 12: [261], 13: [262], 14: [263]}, 54: {10: [264], 11: [265], 13: [266], 14: [267]}, 55: {10: [268], 11: [269], 12: [270]}, 58: {10: [271], 11: [272], 19: [273]}, 59: {10: [274], 11: [275], 12: [276], 13: [277], 14: [278], 15: [279], 16: [280], 17: [281], 18: [282], 19: [283], 20: [284]}, 60: {10: [285], 11: [286], 12: [287], 13: [288], 19: [289]}, 62: {10: [290], 11: [291], 12: [292], 13: [293], 14: [294], 15: [295], 16: [296], 18: [297], 19: [298], 20: [299]}, 63: {10: [300], 11: [301], 12: [302], 13: [303], 14: [304], 15: [305], 16: [306], 17: [307], 18: [308], 19: [309]}, 65: {12: [310], 13: [311], 14: [312], 15: [313]}, 66: {10: [314], 12: [315], 13: [316], 14: [317], 15: [318], 16: [319], 17: [320], 18: [321], 19: [322], 20: [323]}, 67: {10: [324], 11: [325], 12: [326], 13: [327], 14: [328], 15: [329], 16: [330], 17: [331], 18: [332], 19: [333], 20: [334]}, 68: {10: [335], 11: [336], 12: [337], 13: [338], 14: [339], 15: [340], 16: [341], 17: [342], 18: [343], 19: [344], 20: [345]}, 69: {10: [346], 11: [347], 12: [348], 13: [349], 14: [350], 15: [351], 16: [352], 17: [353], 18: [354], 19: [355], 20: [356]}, 70: {12: [357], 13: [358], 14: [359]}, 71: {10: [360], 12: [361], 13: [362], 14: [363], 15: [364], 16: [365], 17: [366], 18: [367]}, 72: {10: [368], 11: [369], 12: [370], 13: [371], 14: [372], 15: [373], 16: [374], 17: [375], 18: [376], 19: [377], 20: [378]}, 73: {10: [379], 11: [380], 12: [381], 13: [382], 14: [383], 15: [384], 16: [385], 17: [386], 18: [387], 19: [388], 20: [389]}, 75: {10: [390], 11: [391], 12: [392], 13: [393], 14: [394], 15: [395], 16: [396], 17: [397], 18: [398], 19: [399], 20: [400]}, 77: {10: [401], 11: [402], 12: [403], 13: [404], 17: [405], 18: [406], 20: [407]}, 78: {10: [408], 11: [409], 12: [410], 13: [411], 14: [412], 16: [413], 17: [414], 18: [415]}, 81: {12: [416], 13: [417], 14: [418], 15: [419]}, 83: {10: [420], 11: [421], 13: [422], 14: [423], 15: [424], 16: [425], 17: [426], 18: [427], 19: [428]}, 84: {12: [429], 13: [430], 14: [431]}, 87: {10: [432], 11: [433], 12: [434], 16: [435], 17: [436], 18: [437], 19: [438]}, 89: {10: [439], 11: [440], 18: [441]}, 98: {10: [442], 11: [443]}, 107: {10: [444], 11: [445], 12: [446]}, 110: {10: [447], 11: [448]}}\n"
     ]
    }
   ],
   "source": [
    "temp = np.sort(list_id_ori)\n",
    "test = {}\n",
    "count = 0\n",
    "for i in temp:\n",
    "    test[int(i)] = {}\n",
    "    for w in id_week_ori[i]:\n",
    "        test[int(i)][int(w)] = [count]\n",
    "        count +=1\n",
    "\n",
    "print(test)"
   ]
  },
  {
   "cell_type": "code",
   "execution_count": 58,
   "metadata": {},
   "outputs": [
    {
     "name": "stdout",
     "output_type": "stream",
     "text": [
      "25045919    67\n",
      "Name: id, dtype: int64\n"
     ]
    }
   ],
   "source": [
    "t = df.loc[(df.latitude > 17)&(df.latitude <18),['id','week']].drop_duplicates()\n",
    "print(str(t.id))"
   ]
  },
  {
   "cell_type": "code",
   "execution_count": 14,
   "metadata": {},
   "outputs": [
    {
     "name": "stdout",
     "output_type": "stream",
     "text": [
      "id   week\n",
      "1    10      [45.77, 45.78, 45.79, 45.74, 44.43, 45.82, 45....\n",
      "     11      [45.36, 45.35, 45.34, 45.33, 45.32, 45.31, 45....\n",
      "     12      [45.77, 45.78, 45.79, 45.76, 45.75, 45.74, 45....\n",
      "     13      [43.58, 43.59, 43.57, 43.56, 43.55, 43.54, 43....\n",
      "     14      [45.77, 45.78, 45.76, 45.75, 45.79, 46.34, 46....\n",
      "                                   ...                        \n",
      "107  10      [45.79, 45.78, 45.77, 45.76, 45.75, 45.74, 45....\n",
      "     11      [45.78, 45.79, 45.77, 45.76, 48.87, 48.86, 48.84]\n",
      "     12                                         [45.79, 45.78]\n",
      "110  10      [48.89, 48.84, 48.83, 48.82, 48.81, 48.8, 48.7...\n",
      "     11                           [48.86, 48.89, 48.83, 48.87]\n",
      "Name: longitude, Length: 449, dtype: object\n",
      "449\n"
     ]
    }
   ],
   "source": [
    "pos_long = df.loc[(df['longitude'] >= 0)].groupby(['id','week'])['longitude'].unique()#agg(pd.Series.mode)\n",
    "print(pos_long)\n",
    "print(len(pos_long))"
   ]
  },
  {
   "cell_type": "code",
   "execution_count": 26,
   "metadata": {},
   "outputs": [
    {
     "name": "stdout",
     "output_type": "stream",
     "text": [
      "id  week\n",
      "9   11      1255\n",
      "Name: latitude, dtype: int64\n",
      "id  week\n",
      "83  11      26448\n",
      "Name: longitude, dtype: int64\n"
     ]
    }
   ],
   "source": [
    "test = df.loc[(df['latitude'] >10)&(df['latitude']<11)].groupby(['id','week'])['latitude'].count()#agg(pd.Series.mode)\n",
    "print(test)\n",
    "\n",
    "test_lo = df.loc[(df['longitude'] >58)&(df['longitude']<59)].groupby(['id','week'])['longitude'].count()#agg(pd.Series.mode)\n",
    "print(test_lo)"
   ]
  },
  {
   "cell_type": "code",
   "execution_count": 26,
   "metadata": {},
   "outputs": [],
   "source": [
    "data = {}\n",
    "\n",
    "for i in list_id_ori:\n",
    "    data[str(i)] = {}\n",
    "    for w in id_week_ori[i]:\n",
    "        data[str(i)]['2015'+'-'+str(w)] = [str(i)]\n",
    "with open('attack_sibyl483', 'w') as fp:\n",
    "    json.dump(data, fp, indent=1)\n"
   ]
  }
 ],
 "metadata": {
  "kernelspec": {
   "display_name": "Python 3",
   "language": "python",
   "name": "python3"
  },
  "language_info": {
   "codemirror_mode": {
    "name": "ipython",
    "version": 3
   },
   "file_extension": ".py",
   "mimetype": "text/x-python",
   "name": "python",
   "nbconvert_exporter": "python",
   "pygments_lexer": "ipython3",
   "version": "3.8.5"
  }
 },
 "nbformat": 4,
 "nbformat_minor": 4
}
